{
 "cells": [
  {
   "cell_type": "code",
   "execution_count": 1,
   "metadata": {
    "collapsed": true
   },
   "outputs": [],
   "source": [
    "import csv\n",
    "\n",
    "import numpy\n",
    "import scipy\n",
    "\n",
    "import matplotlib.pyplot as plt\n",
    "## Matplotlib style\n",
    "%matplotlib inline\n",
    "plt.style.use('ggplot')\n",
    "\n",
    "from sklearn import preprocessing\n",
    "from sklearn.cross_validation import train_test_split\n",
    "from sklearn import metrics\n",
    "from sklearn.naive_bayes import GaussianNB"
   ]
  },
  {
   "cell_type": "code",
   "execution_count": 2,
   "metadata": {
    "collapsed": true
   },
   "outputs": [],
   "source": [
    "fileName = \"wdbc.csv\"\n",
    "fileOpen = open(fileName, \"rU\")\n",
    "csvData = csv.reader(fileOpen)\n",
    "dataList = list(csvData)\n",
    "dataArray =  numpy.array(dataList)\n",
    "X = dataArray[:,2:32].astype(float)\n",
    "y = dataArray[:, 1]\n",
    "le = preprocessing.LabelEncoder()\n",
    "le.fit(y)\n",
    "y_transformed = le.transform(y)"
   ]
  },
  {
   "cell_type": "code",
   "execution_count": 3,
   "metadata": {
    "collapsed": true
   },
   "outputs": [],
   "source": [
    "nbmodel = GaussianNB().fit(X, y_transformed)"
   ]
  },
  {
   "cell_type": "code",
   "execution_count": 5,
   "metadata": {
    "collapsed": false
   },
   "outputs": [
    {
     "name": "stdout",
     "output_type": "stream",
     "text": [
      "34\n",
      "0.940246045694\n"
     ]
    }
   ],
   "source": [
    "y_pred = nbmodel.predict(X)\n",
    "non_agreementNB = y_pred[y_pred != y_transformed]\n",
    "print len(non_agreementNB)\n",
    "print metrics.accuracy_score(y_transformed, y_pred)"
   ]
  },
  {
   "cell_type": "code",
   "execution_count": 6,
   "metadata": {
    "collapsed": true
   },
   "outputs": [],
   "source": [
    "## Randomly split the data between training and testing:\n",
    "X_train, X_test, Y_train, Y_test = train_test_split(X, y_transformed)"
   ]
  },
  {
   "cell_type": "code",
   "execution_count": 7,
   "metadata": {
    "collapsed": true
   },
   "outputs": [],
   "source": [
    "nbmodel_train = GaussianNB().fit(X_train, Y_train)\n",
    "predicted = nbmodel_train.predict(X_test)"
   ]
  },
  {
   "cell_type": "code",
   "execution_count": 8,
   "metadata": {
    "collapsed": false
   },
   "outputs": [
    {
     "name": "stdout",
     "output_type": "stream",
     "text": [
      "[[82  4]\n",
      " [ 7 50]]\n"
     ]
    }
   ],
   "source": [
    "print metrics.confusion_matrix(Y_test, predicted)"
   ]
  },
  {
   "cell_type": "code",
   "execution_count": 9,
   "metadata": {
    "collapsed": false
   },
   "outputs": [
    {
     "name": "stdout",
     "output_type": "stream",
     "text": [
      "             precision    recall  f1-score   support\n",
      "\n",
      "          0       0.92      0.95      0.94        86\n",
      "          1       0.93      0.88      0.90        57\n",
      "\n",
      "avg / total       0.92      0.92      0.92       143\n",
      "\n",
      "0.923076923077\n"
     ]
    }
   ],
   "source": [
    "print metrics.classification_report(Y_test, predicted)\n",
    "print metrics.accuracy_score(Y_test, predicted)"
   ]
  },
  {
   "cell_type": "code",
   "execution_count": null,
   "metadata": {
    "collapsed": true
   },
   "outputs": [],
   "source": []
  }
 ],
 "metadata": {
  "kernelspec": {
   "display_name": "Python 2",
   "language": "python",
   "name": "python2"
  },
  "language_info": {
   "codemirror_mode": {
    "name": "ipython",
    "version": 2
   },
   "file_extension": ".py",
   "mimetype": "text/x-python",
   "name": "python",
   "nbconvert_exporter": "python",
   "pygments_lexer": "ipython2",
   "version": "2.7.6"
  }
 },
 "nbformat": 4,
 "nbformat_minor": 0
}
